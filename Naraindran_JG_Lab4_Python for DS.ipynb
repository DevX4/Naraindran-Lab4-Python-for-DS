{
  "cells": [
    {
      "cell_type": "markdown",
      "metadata": {
        "id": "ldeiV8Rsjtcs"
      },
      "source": [
        "# Linear Discriminant Analysis"
      ]
    },
    {
      "cell_type": "markdown",
      "metadata": {
        "id": "gYFhHC31duWB"
      },
      "source": [
        "### Objective\n",
        "\n",
        "Training a Linear Discriminant Analysis(LDA) model to check if the product has been shipped or canceled.\n",
        "\n",
        "### Problem Statement\n",
        "\n",
        "XYZ.com is an e-commerce company based in Argentina. Due to the covid crisis and lockdown XYZ.com is facing lots of issues from the dealer and the shipment team.  XYZ.com has lots of product data where various shipping and sales details of each product have been mentioned. XYZ.com wants to find out which of the products has been shipped and which of the products has been canceled to reduce customer escalation. As a data-scientist, We have to train an LDA(Linear Discriminant Analysis) model to predict which of the product has been shipped and which of the product has been canceled."
      ]
    },
    {
      "cell_type": "markdown",
      "metadata": {
        "id": "ONVPFqgsL8ry"
      },
      "source": [
        "### 1. Import necessary libraries."
      ]
    },
    {
      "cell_type": "code",
      "execution_count": 1,
      "metadata": {
        "id": "2kFsfPZXL8sC"
      },
      "outputs": [],
      "source": [
        "import warnings\n",
        "warnings.filterwarnings(\"ignore\")"
      ]
    },
    {
      "cell_type": "code",
      "execution_count": 2,
      "metadata": {
        "id": "2VTgMsfTL8sE"
      },
      "outputs": [],
      "source": [
        "import numpy as np\n",
        "import pandas as pd\n",
        "import matplotlib.pyplot as plt\n",
        "import seaborn as sns\n",
        "from sklearn.model_selection import train_test_split\n",
        "from sklearn.metrics import classification_report,confusion_matrix,roc_curve,accuracy_score,auc,roc_auc_score\n",
        "from sklearn.ensemble import RandomForestClassifier\n",
        "from sklearn.preprocessing import StandardScaler,MinMaxScaler\n",
        "from sklearn.discriminant_analysis import LinearDiscriminantAnalysis as LDA"
      ]
    },
    {
      "cell_type": "markdown",
      "metadata": {
        "id": "QaMn72C6L8sG"
      },
      "source": [
        "### 2. Display a sample of five rows of the data frame"
      ]
    },
    {
      "cell_type": "code",
      "execution_count": 5,
      "metadata": {
        "id": "bccGMqGYL8sH"
      },
      "outputs": [],
      "source": [
        "df = pd.read_csv('/content/drive/MyDrive/sales_data_sample.csv',encoding='unicode_escape')"
      ]
    },
    {
      "cell_type": "code",
      "source": [
        "from google.colab import drive\n",
        "drive.mount('/content/drive')"
      ],
      "metadata": {
        "colab": {
          "base_uri": "https://localhost:8080/"
        },
        "id": "TQSmUwuGhOHE",
        "outputId": "0e005dd4-375c-44a3-e2c5-cec4a664b14a"
      },
      "execution_count": 4,
      "outputs": [
        {
          "output_type": "stream",
          "name": "stdout",
          "text": [
            "Mounted at /content/drive\n"
          ]
        }
      ]
    },
    {
      "cell_type": "code",
      "execution_count": 6,
      "metadata": {
        "id": "7HMBmKmtL8sI",
        "outputId": "4cd7610c-28db-45fc-bc56-11d85216d00c",
        "colab": {
          "base_uri": "https://localhost:8080/",
          "height": 394
        }
      },
      "outputs": [
        {
          "output_type": "execute_result",
          "data": {
            "text/plain": [
              "      ORDERNUMBER  QUANTITYORDERED  PRICEEACH  ORDERLINENUMBER    SALES  \\\n",
              "920         10244               24      58.09                3  1394.16   \n",
              "1964        10350               25      60.34               10  1508.50   \n",
              "1649        10194               49     100.00                1  5760.93   \n",
              "2539        10167               29     100.00                5  2940.02   \n",
              "1675        10190               42      76.19                3  3199.98   \n",
              "\n",
              "            ORDERDATE     STATUS  QTR_ID  MONTH_ID  YEAR_ID  ...  \\\n",
              "920    4/29/2004 0:00    Shipped       2         4     2004  ...   \n",
              "1964   12/2/2004 0:00    Shipped       4        12     2004  ...   \n",
              "1649  11/25/2003 0:00    Shipped       4        11     2003  ...   \n",
              "2539  10/23/2003 0:00  Cancelled       4        10     2003  ...   \n",
              "1675  11/19/2003 0:00    Shipped       4        11     2003  ...   \n",
              "\n",
              "            ADDRESSLINE1  ADDRESSLINE2    CITY STATE POSTALCODE COUNTRY  \\\n",
              "920   C/ Moralzarzal, 86           NaN  Madrid   NaN      28034   Spain   \n",
              "1964  C/ Moralzarzal, 86           NaN  Madrid   NaN      28034   Spain   \n",
              "1649  2, rue du Commerce           NaN    Lyon   NaN      69004  France   \n",
              "2539        ?kergatan 24           NaN   Boras   NaN   S-844 67  Sweden   \n",
              "1675  C/ Moralzarzal, 86           NaN  Madrid   NaN      28034   Spain   \n",
              "\n",
              "     TERRITORY CONTACTLASTNAME CONTACTFIRSTNAME DEALSIZE  \n",
              "920       EMEA          Freyre            Diego    Small  \n",
              "1964      EMEA          Freyre            Diego    Small  \n",
              "1649      EMEA         Saveley             Mary   Medium  \n",
              "2539      EMEA         Larsson            Maria    Small  \n",
              "1675      EMEA          Freyre            Diego   Medium  \n",
              "\n",
              "[5 rows x 25 columns]"
            ],
            "text/html": [
              "\n",
              "  <div id=\"df-c9d3031d-6da7-4e7b-a2f3-6c7c292918d5\" class=\"colab-df-container\">\n",
              "    <div>\n",
              "<style scoped>\n",
              "    .dataframe tbody tr th:only-of-type {\n",
              "        vertical-align: middle;\n",
              "    }\n",
              "\n",
              "    .dataframe tbody tr th {\n",
              "        vertical-align: top;\n",
              "    }\n",
              "\n",
              "    .dataframe thead th {\n",
              "        text-align: right;\n",
              "    }\n",
              "</style>\n",
              "<table border=\"1\" class=\"dataframe\">\n",
              "  <thead>\n",
              "    <tr style=\"text-align: right;\">\n",
              "      <th></th>\n",
              "      <th>ORDERNUMBER</th>\n",
              "      <th>QUANTITYORDERED</th>\n",
              "      <th>PRICEEACH</th>\n",
              "      <th>ORDERLINENUMBER</th>\n",
              "      <th>SALES</th>\n",
              "      <th>ORDERDATE</th>\n",
              "      <th>STATUS</th>\n",
              "      <th>QTR_ID</th>\n",
              "      <th>MONTH_ID</th>\n",
              "      <th>YEAR_ID</th>\n",
              "      <th>...</th>\n",
              "      <th>ADDRESSLINE1</th>\n",
              "      <th>ADDRESSLINE2</th>\n",
              "      <th>CITY</th>\n",
              "      <th>STATE</th>\n",
              "      <th>POSTALCODE</th>\n",
              "      <th>COUNTRY</th>\n",
              "      <th>TERRITORY</th>\n",
              "      <th>CONTACTLASTNAME</th>\n",
              "      <th>CONTACTFIRSTNAME</th>\n",
              "      <th>DEALSIZE</th>\n",
              "    </tr>\n",
              "  </thead>\n",
              "  <tbody>\n",
              "    <tr>\n",
              "      <th>920</th>\n",
              "      <td>10244</td>\n",
              "      <td>24</td>\n",
              "      <td>58.09</td>\n",
              "      <td>3</td>\n",
              "      <td>1394.16</td>\n",
              "      <td>4/29/2004 0:00</td>\n",
              "      <td>Shipped</td>\n",
              "      <td>2</td>\n",
              "      <td>4</td>\n",
              "      <td>2004</td>\n",
              "      <td>...</td>\n",
              "      <td>C/ Moralzarzal, 86</td>\n",
              "      <td>NaN</td>\n",
              "      <td>Madrid</td>\n",
              "      <td>NaN</td>\n",
              "      <td>28034</td>\n",
              "      <td>Spain</td>\n",
              "      <td>EMEA</td>\n",
              "      <td>Freyre</td>\n",
              "      <td>Diego</td>\n",
              "      <td>Small</td>\n",
              "    </tr>\n",
              "    <tr>\n",
              "      <th>1964</th>\n",
              "      <td>10350</td>\n",
              "      <td>25</td>\n",
              "      <td>60.34</td>\n",
              "      <td>10</td>\n",
              "      <td>1508.50</td>\n",
              "      <td>12/2/2004 0:00</td>\n",
              "      <td>Shipped</td>\n",
              "      <td>4</td>\n",
              "      <td>12</td>\n",
              "      <td>2004</td>\n",
              "      <td>...</td>\n",
              "      <td>C/ Moralzarzal, 86</td>\n",
              "      <td>NaN</td>\n",
              "      <td>Madrid</td>\n",
              "      <td>NaN</td>\n",
              "      <td>28034</td>\n",
              "      <td>Spain</td>\n",
              "      <td>EMEA</td>\n",
              "      <td>Freyre</td>\n",
              "      <td>Diego</td>\n",
              "      <td>Small</td>\n",
              "    </tr>\n",
              "    <tr>\n",
              "      <th>1649</th>\n",
              "      <td>10194</td>\n",
              "      <td>49</td>\n",
              "      <td>100.00</td>\n",
              "      <td>1</td>\n",
              "      <td>5760.93</td>\n",
              "      <td>11/25/2003 0:00</td>\n",
              "      <td>Shipped</td>\n",
              "      <td>4</td>\n",
              "      <td>11</td>\n",
              "      <td>2003</td>\n",
              "      <td>...</td>\n",
              "      <td>2, rue du Commerce</td>\n",
              "      <td>NaN</td>\n",
              "      <td>Lyon</td>\n",
              "      <td>NaN</td>\n",
              "      <td>69004</td>\n",
              "      <td>France</td>\n",
              "      <td>EMEA</td>\n",
              "      <td>Saveley</td>\n",
              "      <td>Mary</td>\n",
              "      <td>Medium</td>\n",
              "    </tr>\n",
              "    <tr>\n",
              "      <th>2539</th>\n",
              "      <td>10167</td>\n",
              "      <td>29</td>\n",
              "      <td>100.00</td>\n",
              "      <td>5</td>\n",
              "      <td>2940.02</td>\n",
              "      <td>10/23/2003 0:00</td>\n",
              "      <td>Cancelled</td>\n",
              "      <td>4</td>\n",
              "      <td>10</td>\n",
              "      <td>2003</td>\n",
              "      <td>...</td>\n",
              "      <td>?kergatan 24</td>\n",
              "      <td>NaN</td>\n",
              "      <td>Boras</td>\n",
              "      <td>NaN</td>\n",
              "      <td>S-844 67</td>\n",
              "      <td>Sweden</td>\n",
              "      <td>EMEA</td>\n",
              "      <td>Larsson</td>\n",
              "      <td>Maria</td>\n",
              "      <td>Small</td>\n",
              "    </tr>\n",
              "    <tr>\n",
              "      <th>1675</th>\n",
              "      <td>10190</td>\n",
              "      <td>42</td>\n",
              "      <td>76.19</td>\n",
              "      <td>3</td>\n",
              "      <td>3199.98</td>\n",
              "      <td>11/19/2003 0:00</td>\n",
              "      <td>Shipped</td>\n",
              "      <td>4</td>\n",
              "      <td>11</td>\n",
              "      <td>2003</td>\n",
              "      <td>...</td>\n",
              "      <td>C/ Moralzarzal, 86</td>\n",
              "      <td>NaN</td>\n",
              "      <td>Madrid</td>\n",
              "      <td>NaN</td>\n",
              "      <td>28034</td>\n",
              "      <td>Spain</td>\n",
              "      <td>EMEA</td>\n",
              "      <td>Freyre</td>\n",
              "      <td>Diego</td>\n",
              "      <td>Medium</td>\n",
              "    </tr>\n",
              "  </tbody>\n",
              "</table>\n",
              "<p>5 rows × 25 columns</p>\n",
              "</div>\n",
              "    <div class=\"colab-df-buttons\">\n",
              "\n",
              "  <div class=\"colab-df-container\">\n",
              "    <button class=\"colab-df-convert\" onclick=\"convertToInteractive('df-c9d3031d-6da7-4e7b-a2f3-6c7c292918d5')\"\n",
              "            title=\"Convert this dataframe to an interactive table.\"\n",
              "            style=\"display:none;\">\n",
              "\n",
              "  <svg xmlns=\"http://www.w3.org/2000/svg\" height=\"24px\" viewBox=\"0 -960 960 960\">\n",
              "    <path d=\"M120-120v-720h720v720H120Zm60-500h600v-160H180v160Zm220 220h160v-160H400v160Zm0 220h160v-160H400v160ZM180-400h160v-160H180v160Zm440 0h160v-160H620v160ZM180-180h160v-160H180v160Zm440 0h160v-160H620v160Z\"/>\n",
              "  </svg>\n",
              "    </button>\n",
              "\n",
              "  <style>\n",
              "    .colab-df-container {\n",
              "      display:flex;\n",
              "      gap: 12px;\n",
              "    }\n",
              "\n",
              "    .colab-df-convert {\n",
              "      background-color: #E8F0FE;\n",
              "      border: none;\n",
              "      border-radius: 50%;\n",
              "      cursor: pointer;\n",
              "      display: none;\n",
              "      fill: #1967D2;\n",
              "      height: 32px;\n",
              "      padding: 0 0 0 0;\n",
              "      width: 32px;\n",
              "    }\n",
              "\n",
              "    .colab-df-convert:hover {\n",
              "      background-color: #E2EBFA;\n",
              "      box-shadow: 0px 1px 2px rgba(60, 64, 67, 0.3), 0px 1px 3px 1px rgba(60, 64, 67, 0.15);\n",
              "      fill: #174EA6;\n",
              "    }\n",
              "\n",
              "    .colab-df-buttons div {\n",
              "      margin-bottom: 4px;\n",
              "    }\n",
              "\n",
              "    [theme=dark] .colab-df-convert {\n",
              "      background-color: #3B4455;\n",
              "      fill: #D2E3FC;\n",
              "    }\n",
              "\n",
              "    [theme=dark] .colab-df-convert:hover {\n",
              "      background-color: #434B5C;\n",
              "      box-shadow: 0px 1px 3px 1px rgba(0, 0, 0, 0.15);\n",
              "      filter: drop-shadow(0px 1px 2px rgba(0, 0, 0, 0.3));\n",
              "      fill: #FFFFFF;\n",
              "    }\n",
              "  </style>\n",
              "\n",
              "    <script>\n",
              "      const buttonEl =\n",
              "        document.querySelector('#df-c9d3031d-6da7-4e7b-a2f3-6c7c292918d5 button.colab-df-convert');\n",
              "      buttonEl.style.display =\n",
              "        google.colab.kernel.accessAllowed ? 'block' : 'none';\n",
              "\n",
              "      async function convertToInteractive(key) {\n",
              "        const element = document.querySelector('#df-c9d3031d-6da7-4e7b-a2f3-6c7c292918d5');\n",
              "        const dataTable =\n",
              "          await google.colab.kernel.invokeFunction('convertToInteractive',\n",
              "                                                    [key], {});\n",
              "        if (!dataTable) return;\n",
              "\n",
              "        const docLinkHtml = 'Like what you see? Visit the ' +\n",
              "          '<a target=\"_blank\" href=https://colab.research.google.com/notebooks/data_table.ipynb>data table notebook</a>'\n",
              "          + ' to learn more about interactive tables.';\n",
              "        element.innerHTML = '';\n",
              "        dataTable['output_type'] = 'display_data';\n",
              "        await google.colab.output.renderOutput(dataTable, element);\n",
              "        const docLink = document.createElement('div');\n",
              "        docLink.innerHTML = docLinkHtml;\n",
              "        element.appendChild(docLink);\n",
              "      }\n",
              "    </script>\n",
              "  </div>\n",
              "\n",
              "\n",
              "<div id=\"df-d5b7a691-4a63-49f4-8874-bf4cd9fd0698\">\n",
              "  <button class=\"colab-df-quickchart\" onclick=\"quickchart('df-d5b7a691-4a63-49f4-8874-bf4cd9fd0698')\"\n",
              "            title=\"Suggest charts.\"\n",
              "            style=\"display:none;\">\n",
              "\n",
              "<svg xmlns=\"http://www.w3.org/2000/svg\" height=\"24px\"viewBox=\"0 0 24 24\"\n",
              "     width=\"24px\">\n",
              "    <g>\n",
              "        <path d=\"M19 3H5c-1.1 0-2 .9-2 2v14c0 1.1.9 2 2 2h14c1.1 0 2-.9 2-2V5c0-1.1-.9-2-2-2zM9 17H7v-7h2v7zm4 0h-2V7h2v10zm4 0h-2v-4h2v4z\"/>\n",
              "    </g>\n",
              "</svg>\n",
              "  </button>\n",
              "\n",
              "<style>\n",
              "  .colab-df-quickchart {\n",
              "      --bg-color: #E8F0FE;\n",
              "      --fill-color: #1967D2;\n",
              "      --hover-bg-color: #E2EBFA;\n",
              "      --hover-fill-color: #174EA6;\n",
              "      --disabled-fill-color: #AAA;\n",
              "      --disabled-bg-color: #DDD;\n",
              "  }\n",
              "\n",
              "  [theme=dark] .colab-df-quickchart {\n",
              "      --bg-color: #3B4455;\n",
              "      --fill-color: #D2E3FC;\n",
              "      --hover-bg-color: #434B5C;\n",
              "      --hover-fill-color: #FFFFFF;\n",
              "      --disabled-bg-color: #3B4455;\n",
              "      --disabled-fill-color: #666;\n",
              "  }\n",
              "\n",
              "  .colab-df-quickchart {\n",
              "    background-color: var(--bg-color);\n",
              "    border: none;\n",
              "    border-radius: 50%;\n",
              "    cursor: pointer;\n",
              "    display: none;\n",
              "    fill: var(--fill-color);\n",
              "    height: 32px;\n",
              "    padding: 0;\n",
              "    width: 32px;\n",
              "  }\n",
              "\n",
              "  .colab-df-quickchart:hover {\n",
              "    background-color: var(--hover-bg-color);\n",
              "    box-shadow: 0 1px 2px rgba(60, 64, 67, 0.3), 0 1px 3px 1px rgba(60, 64, 67, 0.15);\n",
              "    fill: var(--button-hover-fill-color);\n",
              "  }\n",
              "\n",
              "  .colab-df-quickchart-complete:disabled,\n",
              "  .colab-df-quickchart-complete:disabled:hover {\n",
              "    background-color: var(--disabled-bg-color);\n",
              "    fill: var(--disabled-fill-color);\n",
              "    box-shadow: none;\n",
              "  }\n",
              "\n",
              "  .colab-df-spinner {\n",
              "    border: 2px solid var(--fill-color);\n",
              "    border-color: transparent;\n",
              "    border-bottom-color: var(--fill-color);\n",
              "    animation:\n",
              "      spin 1s steps(1) infinite;\n",
              "  }\n",
              "\n",
              "  @keyframes spin {\n",
              "    0% {\n",
              "      border-color: transparent;\n",
              "      border-bottom-color: var(--fill-color);\n",
              "      border-left-color: var(--fill-color);\n",
              "    }\n",
              "    20% {\n",
              "      border-color: transparent;\n",
              "      border-left-color: var(--fill-color);\n",
              "      border-top-color: var(--fill-color);\n",
              "    }\n",
              "    30% {\n",
              "      border-color: transparent;\n",
              "      border-left-color: var(--fill-color);\n",
              "      border-top-color: var(--fill-color);\n",
              "      border-right-color: var(--fill-color);\n",
              "    }\n",
              "    40% {\n",
              "      border-color: transparent;\n",
              "      border-right-color: var(--fill-color);\n",
              "      border-top-color: var(--fill-color);\n",
              "    }\n",
              "    60% {\n",
              "      border-color: transparent;\n",
              "      border-right-color: var(--fill-color);\n",
              "    }\n",
              "    80% {\n",
              "      border-color: transparent;\n",
              "      border-right-color: var(--fill-color);\n",
              "      border-bottom-color: var(--fill-color);\n",
              "    }\n",
              "    90% {\n",
              "      border-color: transparent;\n",
              "      border-bottom-color: var(--fill-color);\n",
              "    }\n",
              "  }\n",
              "</style>\n",
              "\n",
              "  <script>\n",
              "    async function quickchart(key) {\n",
              "      const quickchartButtonEl =\n",
              "        document.querySelector('#' + key + ' button');\n",
              "      quickchartButtonEl.disabled = true;  // To prevent multiple clicks.\n",
              "      quickchartButtonEl.classList.add('colab-df-spinner');\n",
              "      try {\n",
              "        const charts = await google.colab.kernel.invokeFunction(\n",
              "            'suggestCharts', [key], {});\n",
              "      } catch (error) {\n",
              "        console.error('Error during call to suggestCharts:', error);\n",
              "      }\n",
              "      quickchartButtonEl.classList.remove('colab-df-spinner');\n",
              "      quickchartButtonEl.classList.add('colab-df-quickchart-complete');\n",
              "    }\n",
              "    (() => {\n",
              "      let quickchartButtonEl =\n",
              "        document.querySelector('#df-d5b7a691-4a63-49f4-8874-bf4cd9fd0698 button');\n",
              "      quickchartButtonEl.style.display =\n",
              "        google.colab.kernel.accessAllowed ? 'block' : 'none';\n",
              "    })();\n",
              "  </script>\n",
              "</div>\n",
              "    </div>\n",
              "  </div>\n"
            ]
          },
          "metadata": {},
          "execution_count": 6
        }
      ],
      "source": [
        "df.sample(n=5)"
      ]
    },
    {
      "cell_type": "markdown",
      "metadata": {
        "id": "IDdvMs2rL8sK"
      },
      "source": [
        "### 3. Check the shape of the data (number of rows and column). Check the general information about the dataframe using .info() method."
      ]
    },
    {
      "cell_type": "code",
      "execution_count": 7,
      "metadata": {
        "id": "TqL0V1pSL8sL",
        "outputId": "7b6f7981-5f16-4b27-b4ed-9f381e64e64e",
        "colab": {
          "base_uri": "https://localhost:8080/"
        }
      },
      "outputs": [
        {
          "output_type": "stream",
          "name": "stdout",
          "text": [
            "Shape of the dataset (2823, 25)\n",
            "******************************\n",
            "<class 'pandas.core.frame.DataFrame'>\n",
            "RangeIndex: 2823 entries, 0 to 2822\n",
            "Data columns (total 25 columns):\n",
            " #   Column            Non-Null Count  Dtype  \n",
            "---  ------            --------------  -----  \n",
            " 0   ORDERNUMBER       2823 non-null   int64  \n",
            " 1   QUANTITYORDERED   2823 non-null   int64  \n",
            " 2   PRICEEACH         2823 non-null   float64\n",
            " 3   ORDERLINENUMBER   2823 non-null   int64  \n",
            " 4   SALES             2823 non-null   float64\n",
            " 5   ORDERDATE         2823 non-null   object \n",
            " 6   STATUS            2823 non-null   object \n",
            " 7   QTR_ID            2823 non-null   int64  \n",
            " 8   MONTH_ID          2823 non-null   int64  \n",
            " 9   YEAR_ID           2823 non-null   int64  \n",
            " 10  PRODUCTLINE       2823 non-null   object \n",
            " 11  MSRP              2823 non-null   int64  \n",
            " 12  PRODUCTCODE       2823 non-null   object \n",
            " 13  CUSTOMERNAME      2823 non-null   object \n",
            " 14  PHONE             2823 non-null   object \n",
            " 15  ADDRESSLINE1      2823 non-null   object \n",
            " 16  ADDRESSLINE2      302 non-null    object \n",
            " 17  CITY              2823 non-null   object \n",
            " 18  STATE             1337 non-null   object \n",
            " 19  POSTALCODE        2747 non-null   object \n",
            " 20  COUNTRY           2823 non-null   object \n",
            " 21  TERRITORY         1749 non-null   object \n",
            " 22  CONTACTLASTNAME   2823 non-null   object \n",
            " 23  CONTACTFIRSTNAME  2823 non-null   object \n",
            " 24  DEALSIZE          2823 non-null   object \n",
            "dtypes: float64(2), int64(7), object(16)\n",
            "memory usage: 551.5+ KB\n",
            "None\n"
          ]
        }
      ],
      "source": [
        "def basic_info(df):\n",
        "    '''checking basic information & shape about the dataframe'''\n",
        "    temp=df.copy(deep=True)\n",
        "    print(\"Shape of the dataset\",df.shape)\n",
        "    print(\"*\"*30)\n",
        "    print(df.info())\n",
        "\n",
        "basic_info(df)"
      ]
    },
    {
      "cell_type": "markdown",
      "metadata": {
        "id": "szbU2qr6L8sM"
      },
      "source": [
        "### 4.Check the percentage of missing values in each column of the data frame."
      ]
    },
    {
      "cell_type": "code",
      "execution_count": 8,
      "metadata": {
        "id": "bWiVb-9OL8sN",
        "outputId": "caf3b0a2-5a37-4508-c34a-199c9000c151",
        "colab": {
          "base_uri": "https://localhost:8080/"
        }
      },
      "outputs": [
        {
          "output_type": "stream",
          "name": "stdout",
          "text": [
            "percentage of missing data of dataframe \n",
            " ORDERNUMBER          0.000000\n",
            "QUANTITYORDERED      0.000000\n",
            "PRICEEACH            0.000000\n",
            "ORDERLINENUMBER      0.000000\n",
            "SALES                0.000000\n",
            "ORDERDATE            0.000000\n",
            "STATUS               0.000000\n",
            "QTR_ID               0.000000\n",
            "MONTH_ID             0.000000\n",
            "YEAR_ID              0.000000\n",
            "PRODUCTLINE          0.000000\n",
            "MSRP                 0.000000\n",
            "PRODUCTCODE          0.000000\n",
            "CUSTOMERNAME         0.000000\n",
            "PHONE                0.000000\n",
            "ADDRESSLINE1         0.000000\n",
            "ADDRESSLINE2        89.302161\n",
            "CITY                 0.000000\n",
            "STATE               52.639036\n",
            "POSTALCODE           2.692171\n",
            "COUNTRY              0.000000\n",
            "TERRITORY           38.044633\n",
            "CONTACTLASTNAME      0.000000\n",
            "CONTACTFIRSTNAME     0.000000\n",
            "DEALSIZE             0.000000\n",
            "dtype: float64\n"
          ]
        }
      ],
      "source": [
        "def check_missing_values(df):\n",
        "    '''Function to check the missing data percentage'''\n",
        "    print(\"percentage of missing data of dataframe \\n\",df.isnull().sum()/len(df)*100)\n",
        "\n",
        "check_missing_values(df)"
      ]
    },
    {
      "cell_type": "markdown",
      "metadata": {
        "id": "9tHniECYL8sO"
      },
      "source": [
        "- Here we can see the column ADDRESSLINE2 has  89.3% of missing values, STATE has 52.6% of missing values.\n",
        "- POSTALCODE has around 2.69% and TERRITORY has  around 38%."
      ]
    },
    {
      "cell_type": "markdown",
      "metadata": {
        "id": "UU9oLzTNL8sP"
      },
      "source": [
        "- We will drop the ADDRESSLINE2 column and impute other columns with most occured values with the respective column."
      ]
    },
    {
      "cell_type": "markdown",
      "metadata": {
        "id": "x3qZ-nzYL8sQ"
      },
      "source": [
        "### 5. Check if there are any duplicate rows."
      ]
    },
    {
      "cell_type": "code",
      "execution_count": 9,
      "metadata": {
        "id": "VwCjkDKiL8sQ",
        "outputId": "409bb7cd-a179-479b-d68e-c293589bbcc5",
        "colab": {
          "base_uri": "https://localhost:8080/",
          "height": 99
        }
      },
      "outputs": [
        {
          "output_type": "execute_result",
          "data": {
            "text/plain": [
              "Empty DataFrame\n",
              "Columns: [ORDERNUMBER, QUANTITYORDERED, PRICEEACH, ORDERLINENUMBER, SALES, ORDERDATE, STATUS, QTR_ID, MONTH_ID, YEAR_ID, PRODUCTLINE, MSRP, PRODUCTCODE, CUSTOMERNAME, PHONE, ADDRESSLINE1, ADDRESSLINE2, CITY, STATE, POSTALCODE, COUNTRY, TERRITORY, CONTACTLASTNAME, CONTACTFIRSTNAME, DEALSIZE]\n",
              "Index: []\n",
              "\n",
              "[0 rows x 25 columns]"
            ],
            "text/html": [
              "\n",
              "  <div id=\"df-1b31a2b2-c0cc-40c5-9ece-8e5068d4cb58\" class=\"colab-df-container\">\n",
              "    <div>\n",
              "<style scoped>\n",
              "    .dataframe tbody tr th:only-of-type {\n",
              "        vertical-align: middle;\n",
              "    }\n",
              "\n",
              "    .dataframe tbody tr th {\n",
              "        vertical-align: top;\n",
              "    }\n",
              "\n",
              "    .dataframe thead th {\n",
              "        text-align: right;\n",
              "    }\n",
              "</style>\n",
              "<table border=\"1\" class=\"dataframe\">\n",
              "  <thead>\n",
              "    <tr style=\"text-align: right;\">\n",
              "      <th></th>\n",
              "      <th>ORDERNUMBER</th>\n",
              "      <th>QUANTITYORDERED</th>\n",
              "      <th>PRICEEACH</th>\n",
              "      <th>ORDERLINENUMBER</th>\n",
              "      <th>SALES</th>\n",
              "      <th>ORDERDATE</th>\n",
              "      <th>STATUS</th>\n",
              "      <th>QTR_ID</th>\n",
              "      <th>MONTH_ID</th>\n",
              "      <th>YEAR_ID</th>\n",
              "      <th>...</th>\n",
              "      <th>ADDRESSLINE1</th>\n",
              "      <th>ADDRESSLINE2</th>\n",
              "      <th>CITY</th>\n",
              "      <th>STATE</th>\n",
              "      <th>POSTALCODE</th>\n",
              "      <th>COUNTRY</th>\n",
              "      <th>TERRITORY</th>\n",
              "      <th>CONTACTLASTNAME</th>\n",
              "      <th>CONTACTFIRSTNAME</th>\n",
              "      <th>DEALSIZE</th>\n",
              "    </tr>\n",
              "  </thead>\n",
              "  <tbody>\n",
              "  </tbody>\n",
              "</table>\n",
              "<p>0 rows × 25 columns</p>\n",
              "</div>\n",
              "    <div class=\"colab-df-buttons\">\n",
              "\n",
              "  <div class=\"colab-df-container\">\n",
              "    <button class=\"colab-df-convert\" onclick=\"convertToInteractive('df-1b31a2b2-c0cc-40c5-9ece-8e5068d4cb58')\"\n",
              "            title=\"Convert this dataframe to an interactive table.\"\n",
              "            style=\"display:none;\">\n",
              "\n",
              "  <svg xmlns=\"http://www.w3.org/2000/svg\" height=\"24px\" viewBox=\"0 -960 960 960\">\n",
              "    <path d=\"M120-120v-720h720v720H120Zm60-500h600v-160H180v160Zm220 220h160v-160H400v160Zm0 220h160v-160H400v160ZM180-400h160v-160H180v160Zm440 0h160v-160H620v160ZM180-180h160v-160H180v160Zm440 0h160v-160H620v160Z\"/>\n",
              "  </svg>\n",
              "    </button>\n",
              "\n",
              "  <style>\n",
              "    .colab-df-container {\n",
              "      display:flex;\n",
              "      gap: 12px;\n",
              "    }\n",
              "\n",
              "    .colab-df-convert {\n",
              "      background-color: #E8F0FE;\n",
              "      border: none;\n",
              "      border-radius: 50%;\n",
              "      cursor: pointer;\n",
              "      display: none;\n",
              "      fill: #1967D2;\n",
              "      height: 32px;\n",
              "      padding: 0 0 0 0;\n",
              "      width: 32px;\n",
              "    }\n",
              "\n",
              "    .colab-df-convert:hover {\n",
              "      background-color: #E2EBFA;\n",
              "      box-shadow: 0px 1px 2px rgba(60, 64, 67, 0.3), 0px 1px 3px 1px rgba(60, 64, 67, 0.15);\n",
              "      fill: #174EA6;\n",
              "    }\n",
              "\n",
              "    .colab-df-buttons div {\n",
              "      margin-bottom: 4px;\n",
              "    }\n",
              "\n",
              "    [theme=dark] .colab-df-convert {\n",
              "      background-color: #3B4455;\n",
              "      fill: #D2E3FC;\n",
              "    }\n",
              "\n",
              "    [theme=dark] .colab-df-convert:hover {\n",
              "      background-color: #434B5C;\n",
              "      box-shadow: 0px 1px 3px 1px rgba(0, 0, 0, 0.15);\n",
              "      filter: drop-shadow(0px 1px 2px rgba(0, 0, 0, 0.3));\n",
              "      fill: #FFFFFF;\n",
              "    }\n",
              "  </style>\n",
              "\n",
              "    <script>\n",
              "      const buttonEl =\n",
              "        document.querySelector('#df-1b31a2b2-c0cc-40c5-9ece-8e5068d4cb58 button.colab-df-convert');\n",
              "      buttonEl.style.display =\n",
              "        google.colab.kernel.accessAllowed ? 'block' : 'none';\n",
              "\n",
              "      async function convertToInteractive(key) {\n",
              "        const element = document.querySelector('#df-1b31a2b2-c0cc-40c5-9ece-8e5068d4cb58');\n",
              "        const dataTable =\n",
              "          await google.colab.kernel.invokeFunction('convertToInteractive',\n",
              "                                                    [key], {});\n",
              "        if (!dataTable) return;\n",
              "\n",
              "        const docLinkHtml = 'Like what you see? Visit the ' +\n",
              "          '<a target=\"_blank\" href=https://colab.research.google.com/notebooks/data_table.ipynb>data table notebook</a>'\n",
              "          + ' to learn more about interactive tables.';\n",
              "        element.innerHTML = '';\n",
              "        dataTable['output_type'] = 'display_data';\n",
              "        await google.colab.output.renderOutput(dataTable, element);\n",
              "        const docLink = document.createElement('div');\n",
              "        docLink.innerHTML = docLinkHtml;\n",
              "        element.appendChild(docLink);\n",
              "      }\n",
              "    </script>\n",
              "  </div>\n",
              "\n",
              "    </div>\n",
              "  </div>\n"
            ]
          },
          "metadata": {},
          "execution_count": 9
        }
      ],
      "source": [
        "def check_duplicate(df):\n",
        "    duplicate=df[df.duplicated()]\n",
        "    return duplicate\n",
        "\n",
        "duplicate=check_duplicate(df)\n",
        "duplicate"
      ]
    },
    {
      "cell_type": "markdown",
      "metadata": {
        "id": "NgPBf7IuL8sR"
      },
      "source": [
        "- As we can see, There is no duplicate columns which is a good thing for us."
      ]
    },
    {
      "cell_type": "markdown",
      "metadata": {
        "id": "EJAVN2EqL8sS"
      },
      "source": [
        "### 6. Write a function that will impute missing values of the columns “STATE”, “POSTALCODE”,“TERRITORY” with its most occurring label.  "
      ]
    },
    {
      "cell_type": "code",
      "execution_count": 10,
      "metadata": {
        "id": "uOWtZIshL8sS"
      },
      "outputs": [],
      "source": [
        "def impute_most_occur(df):\n",
        "    df=df.copy(deep=True)\n",
        "    temp_state=df['STATE'].value_counts().index[0]\n",
        "    df['STATE'].fillna(value=temp_state,inplace=True)\n",
        "    temp_postal_code=df['POSTALCODE'].value_counts().index[0]\n",
        "    df['POSTALCODE'].fillna(value=temp_postal_code,inplace=True)\n",
        "    temp_territory=df['TERRITORY'].value_counts().index[0]\n",
        "    df['TERRITORY'].fillna(value=temp_territory,inplace=True)\n",
        "    return df\n",
        "\n",
        "df=impute_most_occur(df)"
      ]
    },
    {
      "cell_type": "code",
      "execution_count": 11,
      "metadata": {
        "id": "YMaivayYL8sT",
        "outputId": "19751bfc-431b-4412-a61b-471ac395ad3f",
        "colab": {
          "base_uri": "https://localhost:8080/"
        }
      },
      "outputs": [
        {
          "output_type": "stream",
          "name": "stdout",
          "text": [
            "percentage of missing data of dataframe \n",
            " ORDERNUMBER          0.000000\n",
            "QUANTITYORDERED      0.000000\n",
            "PRICEEACH            0.000000\n",
            "ORDERLINENUMBER      0.000000\n",
            "SALES                0.000000\n",
            "ORDERDATE            0.000000\n",
            "STATUS               0.000000\n",
            "QTR_ID               0.000000\n",
            "MONTH_ID             0.000000\n",
            "YEAR_ID              0.000000\n",
            "PRODUCTLINE          0.000000\n",
            "MSRP                 0.000000\n",
            "PRODUCTCODE          0.000000\n",
            "CUSTOMERNAME         0.000000\n",
            "PHONE                0.000000\n",
            "ADDRESSLINE1         0.000000\n",
            "ADDRESSLINE2        89.302161\n",
            "CITY                 0.000000\n",
            "STATE                0.000000\n",
            "POSTALCODE           0.000000\n",
            "COUNTRY              0.000000\n",
            "TERRITORY            0.000000\n",
            "CONTACTLASTNAME      0.000000\n",
            "CONTACTFIRSTNAME     0.000000\n",
            "DEALSIZE             0.000000\n",
            "dtype: float64\n",
            "**************************************************\n",
            "Shape of the dataset (2823, 25)\n",
            "******************************\n",
            "<class 'pandas.core.frame.DataFrame'>\n",
            "RangeIndex: 2823 entries, 0 to 2822\n",
            "Data columns (total 25 columns):\n",
            " #   Column            Non-Null Count  Dtype  \n",
            "---  ------            --------------  -----  \n",
            " 0   ORDERNUMBER       2823 non-null   int64  \n",
            " 1   QUANTITYORDERED   2823 non-null   int64  \n",
            " 2   PRICEEACH         2823 non-null   float64\n",
            " 3   ORDERLINENUMBER   2823 non-null   int64  \n",
            " 4   SALES             2823 non-null   float64\n",
            " 5   ORDERDATE         2823 non-null   object \n",
            " 6   STATUS            2823 non-null   object \n",
            " 7   QTR_ID            2823 non-null   int64  \n",
            " 8   MONTH_ID          2823 non-null   int64  \n",
            " 9   YEAR_ID           2823 non-null   int64  \n",
            " 10  PRODUCTLINE       2823 non-null   object \n",
            " 11  MSRP              2823 non-null   int64  \n",
            " 12  PRODUCTCODE       2823 non-null   object \n",
            " 13  CUSTOMERNAME      2823 non-null   object \n",
            " 14  PHONE             2823 non-null   object \n",
            " 15  ADDRESSLINE1      2823 non-null   object \n",
            " 16  ADDRESSLINE2      302 non-null    object \n",
            " 17  CITY              2823 non-null   object \n",
            " 18  STATE             2823 non-null   object \n",
            " 19  POSTALCODE        2823 non-null   object \n",
            " 20  COUNTRY           2823 non-null   object \n",
            " 21  TERRITORY         2823 non-null   object \n",
            " 22  CONTACTLASTNAME   2823 non-null   object \n",
            " 23  CONTACTFIRSTNAME  2823 non-null   object \n",
            " 24  DEALSIZE          2823 non-null   object \n",
            "dtypes: float64(2), int64(7), object(16)\n",
            "memory usage: 551.5+ KB\n",
            "None\n"
          ]
        }
      ],
      "source": [
        "check_missing_values(df)\n",
        "print(\"*\"*50)\n",
        "basic_info(df)"
      ]
    },
    {
      "cell_type": "markdown",
      "metadata": {
        "id": "5E9L2utWL8sT"
      },
      "source": [
        "### 7. Drop “ADDRESSLINE2”,”ORDERDATE”,”PHONE” column."
      ]
    },
    {
      "cell_type": "code",
      "execution_count": 12,
      "metadata": {
        "id": "ImWrWqoRL8sU"
      },
      "outputs": [],
      "source": [
        "df.drop(['ADDRESSLINE2','ORDERDATE','PHONE'],axis=1,inplace=True)"
      ]
    },
    {
      "cell_type": "code",
      "execution_count": 13,
      "metadata": {
        "id": "BVpK6ZoHL8sU",
        "outputId": "17a9da2d-9ca4-43ff-c751-c1a88ba6858e",
        "colab": {
          "base_uri": "https://localhost:8080/"
        }
      },
      "outputs": [
        {
          "output_type": "stream",
          "name": "stdout",
          "text": [
            "percentage of missing data of dataframe \n",
            " ORDERNUMBER         0.0\n",
            "QUANTITYORDERED     0.0\n",
            "PRICEEACH           0.0\n",
            "ORDERLINENUMBER     0.0\n",
            "SALES               0.0\n",
            "STATUS              0.0\n",
            "QTR_ID              0.0\n",
            "MONTH_ID            0.0\n",
            "YEAR_ID             0.0\n",
            "PRODUCTLINE         0.0\n",
            "MSRP                0.0\n",
            "PRODUCTCODE         0.0\n",
            "CUSTOMERNAME        0.0\n",
            "ADDRESSLINE1        0.0\n",
            "CITY                0.0\n",
            "STATE               0.0\n",
            "POSTALCODE          0.0\n",
            "COUNTRY             0.0\n",
            "TERRITORY           0.0\n",
            "CONTACTLASTNAME     0.0\n",
            "CONTACTFIRSTNAME    0.0\n",
            "DEALSIZE            0.0\n",
            "dtype: float64\n",
            "**************************************************\n",
            "Shape of the dataset (2823, 22)\n",
            "******************************\n",
            "<class 'pandas.core.frame.DataFrame'>\n",
            "RangeIndex: 2823 entries, 0 to 2822\n",
            "Data columns (total 22 columns):\n",
            " #   Column            Non-Null Count  Dtype  \n",
            "---  ------            --------------  -----  \n",
            " 0   ORDERNUMBER       2823 non-null   int64  \n",
            " 1   QUANTITYORDERED   2823 non-null   int64  \n",
            " 2   PRICEEACH         2823 non-null   float64\n",
            " 3   ORDERLINENUMBER   2823 non-null   int64  \n",
            " 4   SALES             2823 non-null   float64\n",
            " 5   STATUS            2823 non-null   object \n",
            " 6   QTR_ID            2823 non-null   int64  \n",
            " 7   MONTH_ID          2823 non-null   int64  \n",
            " 8   YEAR_ID           2823 non-null   int64  \n",
            " 9   PRODUCTLINE       2823 non-null   object \n",
            " 10  MSRP              2823 non-null   int64  \n",
            " 11  PRODUCTCODE       2823 non-null   object \n",
            " 12  CUSTOMERNAME      2823 non-null   object \n",
            " 13  ADDRESSLINE1      2823 non-null   object \n",
            " 14  CITY              2823 non-null   object \n",
            " 15  STATE             2823 non-null   object \n",
            " 16  POSTALCODE        2823 non-null   object \n",
            " 17  COUNTRY           2823 non-null   object \n",
            " 18  TERRITORY         2823 non-null   object \n",
            " 19  CONTACTLASTNAME   2823 non-null   object \n",
            " 20  CONTACTFIRSTNAME  2823 non-null   object \n",
            " 21  DEALSIZE          2823 non-null   object \n",
            "dtypes: float64(2), int64(7), object(13)\n",
            "memory usage: 485.3+ KB\n",
            "None\n"
          ]
        }
      ],
      "source": [
        "check_missing_values(df)\n",
        "print(\"*\"*50)\n",
        "basic_info(df)"
      ]
    },
    {
      "cell_type": "markdown",
      "metadata": {
        "id": "gLSwZF8WL8sV"
      },
      "source": [
        "### 8. Convert the labels of the STATUS column to 0 and 1. For Shipped assign value 1 and for all other labels (i.e. ‘Cancelled’,’ Resolved’,’ On Hold’,’ In Process’, 'Disputed') assign 0. Note we will consider everything apart from Shipped as cancel (i.e. 0).\n"
      ]
    },
    {
      "cell_type": "code",
      "execution_count": 14,
      "metadata": {
        "id": "CsyMc0gRL8sV"
      },
      "outputs": [],
      "source": [
        "df['STATUS']=df['STATUS'].map({'Shipped':1,'Cancelled':0,'Resolved':0,'On Hold':0,'In Process':0,'Disputed':0})"
      ]
    },
    {
      "cell_type": "code",
      "execution_count": 15,
      "metadata": {
        "id": "ZCIajB9jL8sV",
        "outputId": "770275e7-cf87-4351-f92a-522990b96837",
        "colab": {
          "base_uri": "https://localhost:8080/"
        }
      },
      "outputs": [
        {
          "output_type": "execute_result",
          "data": {
            "text/plain": [
              "1    2617\n",
              "0     206\n",
              "Name: STATUS, dtype: int64"
            ]
          },
          "metadata": {},
          "execution_count": 15
        }
      ],
      "source": [
        "df['STATUS'].value_counts()"
      ]
    },
    {
      "cell_type": "markdown",
      "metadata": {
        "id": "xmpAl3OZ3GL8"
      },
      "source": [
        "- Note: The target class is highly imbalanced."
      ]
    },
    {
      "cell_type": "markdown",
      "metadata": {
        "id": "Bz2U3ei23GL8"
      },
      "source": [
        "### 9. Encode the categorical features using dummy encoding"
      ]
    },
    {
      "cell_type": "code",
      "execution_count": 16,
      "metadata": {
        "id": "QKA0irAC3GL8"
      },
      "outputs": [],
      "source": [
        "df = pd.get_dummies(df,drop_first=True)"
      ]
    },
    {
      "cell_type": "code",
      "execution_count": 17,
      "metadata": {
        "id": "c_1Z56uz3GL8",
        "outputId": "43eec32e-072b-493b-c0fb-3e60b6c890ff",
        "colab": {
          "base_uri": "https://localhost:8080/"
        }
      },
      "outputs": [
        {
          "output_type": "execute_result",
          "data": {
            "text/plain": [
              "(2823, 634)"
            ]
          },
          "metadata": {},
          "execution_count": 17
        }
      ],
      "source": [
        "df.shape"
      ]
    },
    {
      "cell_type": "markdown",
      "metadata": {
        "id": "Pwz79Z7t3GL8"
      },
      "source": [
        "- Note since we had so many categorical features, after encoding there are huge number of dimensions."
      ]
    },
    {
      "cell_type": "markdown",
      "metadata": {
        "id": "sXTGIBksL8sW"
      },
      "source": [
        "### 10. Separate the target and independent features"
      ]
    },
    {
      "cell_type": "code",
      "execution_count": 18,
      "metadata": {
        "id": "mz-g8iawL8sW"
      },
      "outputs": [],
      "source": [
        "X = df.drop('STATUS',axis=1)\n",
        "y = df['STATUS']"
      ]
    },
    {
      "cell_type": "markdown",
      "metadata": {
        "id": "SM-lcPd43GL8"
      },
      "source": [
        "### 11. Split the dataset into two parts (i.e. 80% train and 20% test) using random_state=42."
      ]
    },
    {
      "cell_type": "code",
      "execution_count": 19,
      "metadata": {
        "id": "RpIcvo093GL9",
        "outputId": "6cf1471e-097e-434a-8214-810c08caac07",
        "colab": {
          "base_uri": "https://localhost:8080/"
        }
      },
      "outputs": [
        {
          "output_type": "stream",
          "name": "stdout",
          "text": [
            "(2258, 633) (565, 633)\n",
            "(2258,) (565,)\n"
          ]
        }
      ],
      "source": [
        "X_train,X_test,y_train,y_test = train_test_split(X,y,test_size=0.2,random_state=42)\n",
        "\n",
        "print(X_train.shape,X_test.shape)\n",
        "print(y_train.shape,y_test.shape)"
      ]
    },
    {
      "cell_type": "markdown",
      "metadata": {
        "id": "WKgjYhlcL8sX"
      },
      "source": [
        "### 11. Scale the data"
      ]
    },
    {
      "cell_type": "code",
      "execution_count": 20,
      "metadata": {
        "id": "cizNWrYdL8sY"
      },
      "outputs": [],
      "source": [
        "## Scaling the data using MINMAXSCALAR\n",
        "mm = MinMaxScaler()\n",
        "\n",
        "X_train.iloc[:,:] = mm.fit_transform(X_train.iloc[:,:])\n",
        "X_test.iloc[:,:] = mm.transform(X_test.iloc[:,:])"
      ]
    },
    {
      "cell_type": "markdown",
      "metadata": {
        "id": "dCPqwLLSL8sc"
      },
      "source": [
        "## LDA"
      ]
    },
    {
      "cell_type": "markdown",
      "metadata": {
        "id": "G0tJG3Fs3GL9"
      },
      "source": [
        "### Traning a RandomForest Classfier model before applying LDA"
      ]
    },
    {
      "cell_type": "code",
      "execution_count": 21,
      "metadata": {
        "id": "lGrg_YALduWi",
        "outputId": "78f25be0-3cf3-440b-8c74-ca37684f6e02",
        "colab": {
          "base_uri": "https://localhost:8080/"
        }
      },
      "outputs": [
        {
          "output_type": "stream",
          "name": "stdout",
          "text": [
            "Train Accuracy 0.9317980513728964\n",
            "Test Accuracy 0.9079646017699115\n",
            "**************************************************\n",
            "Train confusion matrix \n",
            " [[   0  154]\n",
            " [   0 2104]]\n",
            "Test confusion matrix \n",
            " [[  0  52]\n",
            " [  0 513]]\n"
          ]
        }
      ],
      "source": [
        "rf = RandomForestClassifier(max_depth=3,n_estimators=25)\n",
        "rf.fit(X_train,y_train)\n",
        "y_train_pred = rf.predict(X_train)\n",
        "y_test_pred = rf.predict(X_test)\n",
        "\n",
        "print(\"Train Accuracy\",accuracy_score(y_train,y_train_pred))\n",
        "print(\"Test Accuracy\",accuracy_score(y_test,y_test_pred))\n",
        "print(\"*\"*50)\n",
        "print(\"Train confusion matrix\",'\\n',confusion_matrix(y_train,y_train_pred))\n",
        "print(\"Test confusion matrix\",'\\n',confusion_matrix(y_test,y_test_pred))"
      ]
    },
    {
      "cell_type": "markdown",
      "metadata": {
        "id": "TD8eznYyL8sd"
      },
      "source": [
        "### Training a Linear Discriminant Analysis(LDA) model on the train data. Do fit_transform on the train data and only transform on the test data."
      ]
    },
    {
      "cell_type": "code",
      "execution_count": 22,
      "metadata": {
        "id": "q8zvamhCduWj"
      },
      "outputs": [],
      "source": [
        "lda = LDA(n_components=1)\n",
        "\n",
        "X_train = lda.fit_transform(X_train, y_train)\n",
        "X_test = lda.transform(X_test)"
      ]
    },
    {
      "cell_type": "code",
      "execution_count": 23,
      "metadata": {
        "id": "I1SCoHeWduWj",
        "outputId": "3e786963-92a1-4e46-ae55-3d9c0f89e9c7",
        "colab": {
          "base_uri": "https://localhost:8080/"
        }
      },
      "outputs": [
        {
          "output_type": "execute_result",
          "data": {
            "text/plain": [
              "(array([[ 0.60496511],\n",
              "        [ 0.28984435],\n",
              "        [ 0.6028427 ],\n",
              "        [-0.21719613],\n",
              "        [ 0.27988057]]),\n",
              " array([[ 1.26394182],\n",
              "        [ 2.52900911],\n",
              "        [ 1.33478261],\n",
              "        [-2.94060547],\n",
              "        [ 0.7395123 ]]))"
            ]
          },
          "metadata": {},
          "execution_count": 23
        }
      ],
      "source": [
        "X_train[:5],X_test[:5]"
      ]
    },
    {
      "cell_type": "markdown",
      "metadata": {
        "id": "sh_3AzagL8se"
      },
      "source": [
        "### Training a random-forest model on the transformed data  and print the accuracy of train and test data. Take max_depth=3 and n_estimators=25"
      ]
    },
    {
      "cell_type": "code",
      "execution_count": 24,
      "metadata": {
        "id": "x56LR90VduWj",
        "outputId": "3c9f5541-a6a5-40d0-a14e-d03ba431d5e5",
        "colab": {
          "base_uri": "https://localhost:8080/"
        }
      },
      "outputs": [
        {
          "output_type": "stream",
          "name": "stdout",
          "text": [
            "Train Accuracy 0.9534986713906112\n",
            "Test Accuracy 0.9221238938053097\n",
            "**************************************************\n",
            "Train confusion matrix \n",
            " [[  93   61]\n",
            " [  44 2060]]\n",
            "Test confusion matrix \n",
            " [[ 22  30]\n",
            " [ 14 499]]\n"
          ]
        }
      ],
      "source": [
        "rf=RandomForestClassifier(max_depth=3,n_estimators=25)\n",
        "rf.fit(X_train,y_train)\n",
        "y_train_pred=rf.predict(X_train)\n",
        "y_test_pred=rf.predict(X_test)\n",
        "\n",
        "print(\"Train Accuracy\",accuracy_score(y_train,y_train_pred))\n",
        "print(\"Test Accuracy\",accuracy_score(y_test,y_test_pred))\n",
        "print(\"*\"*50)\n",
        "print(\"Train confusion matrix\",'\\n',confusion_matrix(y_train,y_train_pred))\n",
        "print(\"Test confusion matrix\",'\\n',confusion_matrix(y_test,y_test_pred))"
      ]
    },
    {
      "cell_type": "markdown",
      "metadata": {
        "id": "2xrTqw67L8se"
      },
      "source": [
        "### Conclusion"
      ]
    },
    {
      "cell_type": "markdown",
      "metadata": {
        "id": "IADYWZYZduWk"
      },
      "source": [
        "- As we can see we True negative and False negative points is zero before applying LDA but after applying LDA we are getting some amount of True negative and false negative points.\n",
        "- Due to class imbalance, the majority class has high recall but minority class has poor recall.\n"
      ]
    },
    {
      "cell_type": "markdown",
      "metadata": {
        "id": "FR3-tBckjtc9"
      },
      "source": [
        "### Happy Learning:)"
      ]
    }
  ],
  "metadata": {
    "colab": {
      "provenance": []
    },
    "kernelspec": {
      "display_name": "Python 3 (ipykernel)",
      "language": "python",
      "name": "python3"
    },
    "language_info": {
      "codemirror_mode": {
        "name": "ipython",
        "version": 3
      },
      "file_extension": ".py",
      "mimetype": "text/x-python",
      "name": "python",
      "nbconvert_exporter": "python",
      "pygments_lexer": "ipython3",
      "version": "3.9.7"
    }
  },
  "nbformat": 4,
  "nbformat_minor": 0
}